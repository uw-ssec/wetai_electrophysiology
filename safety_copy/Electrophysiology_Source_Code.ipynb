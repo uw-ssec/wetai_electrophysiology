{
 "cells": [
  {
   "cell_type": "markdown",
   "id": "9a76e8fb",
   "metadata": {},
   "source": [
    "<font size=7 face=\"courier\">Electrophysiology Source Code"
   ]
  },
  {
   "cell_type": "markdown",
   "id": "0953a556",
   "metadata": {},
   "source": [
    "This is the code used to create the diagrams in the notebook, `Electrophysiology_Introduction.ipynb`. The figures are created from the control dataset, `data_control`, recorded from a cerebral organoid."
   ]
  },
  {
   "cell_type": "markdown",
   "id": "c4fc831b",
   "metadata": {},
   "source": [
    "# Set Up Notebook"
   ]
  },
  {
   "cell_type": "markdown",
   "id": "7e750365",
   "metadata": {},
   "source": [
    "import stuff"
   ]
  },
  {
   "cell_type": "code",
   "execution_count": 1,
   "id": "24ab5182",
   "metadata": {},
   "outputs": [],
   "source": [
    "import numpy as np\n",
    "import matplotlib.pyplot as plt\n",
    "import braingeneers\n",
    "from braingeneers.analysis.analysis import SpikeData\n",
    "import scipy.io as sio\n",
    "import scipy\n",
    "from scipy.ndimage import gaussian_filter1d\n",
    "#!pip install powerlaw"
   ]
  },
  {
   "cell_type": "markdown",
   "id": "9d2584e8",
   "metadata": {},
   "source": [
    "<font color=\"blue\">mat_to_spikeData</font> is a helper function for loading the data into braingeneerspy's prefered class for analyzing ephys data."
   ]
  },
  {
   "cell_type": "code",
   "execution_count": 40,
   "id": "ab11cc36",
   "metadata": {},
   "outputs": [],
   "source": [
    "def mat_to_spikeData(mat_path):\n",
    "    mat = sio.loadmat(mat_path)\n",
    "    units = [i[0][0]*1e3 for i in mat['spike_times']]\n",
    "    sd = SpikeData(units)\n",
    "    return sd"
   ]
  },
  {
   "cell_type": "markdown",
   "id": "306c17e0",
   "metadata": {},
   "source": [
    "Load in the control dataset from Tal's experiment on a cerbral organoid. We call this dataset, `data_control`"
   ]
  },
  {
   "cell_type": "code",
   "execution_count": 41,
   "id": "596ab2f5",
   "metadata": {},
   "outputs": [],
   "source": [
    "data_control = mat_to_spikeData('data/Spike_Raster_Control.mat')"
   ]
  },
  {
   "cell_type": "markdown",
   "id": "6fda4fb3",
   "metadata": {},
   "source": [
    "# Make Raster Plot"
   ]
  },
  {
   "cell_type": "markdown",
   "id": "34b552ac",
   "metadata": {},
   "source": [
    "<font color=\"blue\">plot_raster</font> plots the entire spike raster (spike train) for a given dataset. It's input is a `SpikeData`, as defined in the analysis package of the `braingeneerspy` python package."
   ]
  },
  {
   "cell_type": "code",
   "execution_count": 48,
   "id": "2bdbcd3f",
   "metadata": {},
   "outputs": [],
   "source": [
    "def plot_raster(sd):\n",
    "    idces, times = sd.idces_times()\n",
    "    fig, ax = plt.subplots()\n",
    "\n",
    "    ax.scatter(times/1000,idces,marker='|',s=1)\n",
    "    ax.set_xlabel(\"Time(s)\")\n",
    "    ax.set_ylabel('Unit #')\n",
    "    plt.show()"
   ]
  },
  {
   "cell_type": "code",
   "execution_count": 78,
   "id": "84cf7963",
   "metadata": {},
   "outputs": [],
   "source": [
    "#plot_raster(data_control)"
   ]
  },
  {
   "cell_type": "markdown",
   "id": "2ed238c2",
   "metadata": {},
   "source": [
    "# Analyze Raster Plot"
   ]
  },
  {
   "cell_type": "markdown",
   "id": "b3e2d2e7",
   "metadata": {},
   "source": [
    "<font color=\"blue\">raster_analysis</font> plots the first $x$ amount of seconds of the spike raster ($x$=20 by default). The plot also include a red moving average linge of the firing rate over a short window. The is useful for determining how much neural activity is occuring during short windows of time."
   ]
  },
  {
   "cell_type": "code",
   "execution_count": 38,
   "id": "01da9816",
   "metadata": {},
   "outputs": [],
   "source": [
    "def raster_analysis(sd, seconds=20):\n",
    "    # Zoomed Raster and pop rate\n",
    "    # Get coordinates for raster\n",
    "    idces, times = sd.idces_times()\n",
    "\n",
    "    # Get population rate for everything\n",
    "    pop_rate = sd.binned(bin_size=1)# in ms\n",
    "    # Lets smooth this to make it neater\n",
    "    sigma = 5\n",
    "    pop_rate_smooth = gaussian_filter1d(pop_rate.astype(float),sigma=sigma) \n",
    "    t = np.linspace(0,sd.length,pop_rate.shape[0])/1000\n",
    "\n",
    "    fig, ax = plt.subplots()\n",
    "\n",
    "    ax.scatter(times/1000,idces,marker='|',s=1)\n",
    "    ax2 = ax.twinx()\n",
    "    ax2.plot(t,pop_rate_smooth,c='r')\n",
    "\n",
    "    ax.set_xlim(0,seconds)\n",
    "    ax.set_xlabel(\"Time(s)\")\n",
    "    ax.set_ylabel('Unit #')\n",
    "    ax2.set_ylabel('Firing Rate')\n",
    "    plt.show()"
   ]
  },
  {
   "cell_type": "code",
   "execution_count": 7,
   "id": "acfa250a",
   "metadata": {},
   "outputs": [],
   "source": [
    "#raster_analysis(data_control)"
   ]
  },
  {
   "cell_type": "markdown",
   "id": "a7fc300c",
   "metadata": {},
   "source": [
    "# Interspike interval "
   ]
  },
  {
   "cell_type": "markdown",
   "id": "30e6ecfa",
   "metadata": {},
   "source": [
    "<font color=\"blue\">interspike</font> computes the interspike interval across all neurons. It's input is a `SpikeData`, as defined in the analysis package of the `braingeneerspy` python package. Intervals between spikes greater than 100ms are ignored, becuase such intervals are not likely to represent a form of periodic behavior. "
   ]
  },
  {
   "cell_type": "code",
   "execution_count": 115,
   "id": "a5d0e5b3",
   "metadata": {},
   "outputs": [],
   "source": [
    "def interspike(sd):\n",
    "    # Interspike-intervals of 2 select neurons\n",
    "    isis_raw = sd.interspike_intervals()\n",
    "    # Remove all isi's greater than 100ms. As there are likely neurons not following periodic firing pattern\n",
    "    isis=[]\n",
    "    for i in range(len(isis_raw)):   \n",
    "        isi=isis_raw[i]\n",
    "        isis = isis + isi[isi<100].tolist() \n",
    "        \n",
    "    # Plot the isi's\n",
    "    plt.xlim(0,100)\n",
    "    plt.hist(isis, bins=50)\n",
    "    plt.xlabel('Time bin(ms)')\n",
    "    plt.ylabel('ISI count')\n",
    "    plt.show()"
   ]
  },
  {
   "cell_type": "code",
   "execution_count": 117,
   "id": "d48f4b9b",
   "metadata": {},
   "outputs": [],
   "source": [
    "#interspike(data_control)"
   ]
  },
  {
   "cell_type": "markdown",
   "id": "ec6c2318",
   "metadata": {},
   "source": [
    "# Correlation Matrix"
   ]
  },
  {
   "cell_type": "markdown",
   "id": "e4f6d781",
   "metadata": {},
   "source": [
    "<font color=\"blue\">correlation</font> computes the correlation matrix.  It's input is a `SpikeData`, as defined in the analysis package of the `braingeneerspy` python package."
   ]
  },
  {
   "cell_type": "code",
   "execution_count": 109,
   "id": "204283e5",
   "metadata": {},
   "outputs": [],
   "source": [
    "def correlation(sd):\n",
    "    # Correlation\n",
    "    corr = np.zeros((sd.N,sd.N)) #inds by inds\n",
    "\n",
    "    dense_raster = sd.raster(bin_size=1) # in ms\n",
    "    sigma = 5                            # Blur it\n",
    "    dense_raster = gaussian_filter1d(dense_raster.astype(float),sigma=sigma) \n",
    "    corr=np.corrcoef( dense_raster )\n",
    "    \n",
    "    plt.imshow(corr)\n",
    "    plt.xlabel(\"Neuron index\")\n",
    "    plt.ylabel(\"Neuron index\")\n",
    "    plt.show() \n",
    "        "
   ]
  },
  {
   "cell_type": "code",
   "execution_count": 111,
   "id": "d22f6b98",
   "metadata": {},
   "outputs": [],
   "source": [
    "#correlation(data_control)"
   ]
  }
 ],
 "metadata": {
  "hide_input": false,
  "kernelspec": {
   "display_name": "Python 3 (ipykernel)",
   "language": "python",
   "name": "python3"
  },
  "language_info": {
   "codemirror_mode": {
    "name": "ipython",
    "version": 3
   },
   "file_extension": ".py",
   "mimetype": "text/x-python",
   "name": "python",
   "nbconvert_exporter": "python",
   "pygments_lexer": "ipython3",
   "version": "3.10.10"
  },
  "toc": {
   "base_numbering": 1,
   "nav_menu": {},
   "number_sections": true,
   "sideBar": true,
   "skip_h1_title": false,
   "title_cell": "Table of Contents",
   "title_sidebar": "Contents",
   "toc_cell": false,
   "toc_position": {},
   "toc_section_display": true,
   "toc_window_display": false
  },
  "varInspector": {
   "cols": {
    "lenName": 16,
    "lenType": 16,
    "lenVar": 40
   },
   "kernels_config": {
    "python": {
     "delete_cmd_postfix": "",
     "delete_cmd_prefix": "del ",
     "library": "var_list.py",
     "varRefreshCmd": "print(var_dic_list())"
    },
    "r": {
     "delete_cmd_postfix": ") ",
     "delete_cmd_prefix": "rm(",
     "library": "var_list.r",
     "varRefreshCmd": "cat(var_dic_list()) "
    }
   },
   "types_to_exclude": [
    "module",
    "function",
    "builtin_function_or_method",
    "instance",
    "_Feature"
   ],
   "window_display": false
  }
 },
 "nbformat": 4,
 "nbformat_minor": 5
}
